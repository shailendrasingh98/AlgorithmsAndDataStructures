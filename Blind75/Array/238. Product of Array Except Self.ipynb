{
 "cells": [
  {
   "cell_type": "markdown",
   "metadata": {},
   "source": [
    "### 238. Product of Array Except Self\n",
    "\n",
    "Given an integer array `nums`, return an array answer such that `answer[i]` is equal to the product of all the elements of nums except `nums[i]`.\n",
    "\n",
    "The product of any prefix or suffix of nums is guaranteed to fit in a `32-bit integer`.\n",
    "\n",
    "You must write an algorithm that runs in `O(n)` time and without using the division operation.\n",
    "\n",
    "Example 1:\n",
    "\n",
    "Input: nums = [1,2,3,4]\n",
    "\n",
    "Output: [24,12,8,6]\n",
    "\n",
    "Example 2:\n",
    "\n",
    "Input: nums = [-1,1,0,-3,3]\n",
    "\n",
    "Output: [0,0,9,0,0]\n",
    " \n",
    "\n",
    "Constraints:\n",
    "\n",
    "- `2 <= nums.length <= 105`\n",
    "- `-30 <= nums[i] <= 30`\n",
    "\n",
    "The input is generated such that `answer[i`]` is guaranteed to fit in a `32-bit` integer."
   ]
  },
  {
   "cell_type": "code",
   "execution_count": 1,
   "metadata": {},
   "outputs": [],
   "source": [
    "from typing import List \n",
    "\n",
    "# \n",
    "def productExceptSelf( nums: List[int]) -> List[int]:\n",
    "    left, right, n = 1,1, len(nums)\n",
    "    # Create result to store the product of all except ith, initialize with 1 \n",
    "    res = [1]*n\n",
    "    # Calculatet pruduct from left side. result[i] will contain the product of all values till i (<i)\n",
    "    for i in range(1, n):\n",
    "        left *= nums[i-1]\n",
    "        res[i] *= left\n",
    "    # Calculatet pruduct from right side. result[i] will contain the product of all values excep i. \n",
    "    # Since result[i] already has left product, by calulating right side and the taking product with result[i] \n",
    "    for i in range(n-2, -1, -1):\n",
    "        right *= nums[i+1]\n",
    "        res[i] *= right\n",
    "\n",
    "    return res"
   ]
  },
  {
   "cell_type": "code",
   "execution_count": 5,
   "metadata": {},
   "outputs": [
    {
     "name": "stdout",
     "output_type": "stream",
     "text": [
      "[24, 12, 8, 6]\n",
      "[0, 0, 9, 0, 0]\n"
     ]
    }
   ],
   "source": [
    "print(productExceptSelf([1,2,3,4]))\n",
    "print(productExceptSelf([-1,1,0,-3,3]))"
   ]
  },
  {
   "cell_type": "code",
   "execution_count": 3,
   "metadata": {},
   "outputs": [],
   "source": [
    "def productExceptSelf(nums: List[int]) -> List[int]:\n",
    "    left, right, n = 1,1, len(nums)\n",
    "    res = [1]*n\n",
    "    for i in range(1, n):\n",
    "        left *=nums[i-1]\n",
    "        res[i] *=left\n",
    "        right *=nums[n-i]\n",
    "        res[n-i-1] *=right\n",
    "    return res"
   ]
  },
  {
   "cell_type": "code",
   "execution_count": 6,
   "metadata": {},
   "outputs": [
    {
     "name": "stdout",
     "output_type": "stream",
     "text": [
      "[24, 12, 8, 6]\n",
      "[0, 0, 9, 0, 0]\n"
     ]
    }
   ],
   "source": [
    "print(productExceptSelf([1,2,3,4]))\n",
    "print(productExceptSelf([-1,1,0,-3,3]))"
   ]
  }
 ],
 "metadata": {
  "kernelspec": {
   "display_name": "base",
   "language": "python",
   "name": "python3"
  },
  "language_info": {
   "codemirror_mode": {
    "name": "ipython",
    "version": 3
   },
   "file_extension": ".py",
   "mimetype": "text/x-python",
   "name": "python",
   "nbconvert_exporter": "python",
   "pygments_lexer": "ipython3",
   "version": "3.12.7"
  }
 },
 "nbformat": 4,
 "nbformat_minor": 2
}
