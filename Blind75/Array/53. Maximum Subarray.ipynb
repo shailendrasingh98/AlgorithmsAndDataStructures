{
 "cells": [
  {
   "cell_type": "markdown",
   "metadata": {},
   "source": [
    "### 53. Maximum Subarray\n",
    "Given an integer array nums, find the subarray with the largest sum, and return its sum.\n",
    "\n",
    " \n",
    "\n",
    "Example 1:\n",
    "\n",
    "Input: nums = [-2,1,-3,4,-1,2,1,-5,4]\n",
    "\n",
    "Output: 6\n",
    "\n",
    "Explanation: The subarray [4,-1,2,1] has the largest sum 6.\n",
    "\n",
    "Example 2:\n",
    "\n",
    "Input: nums = [1]\n",
    "\n",
    "Output: 1\n",
    "\n",
    "Explanation: The subarray [1] has the largest sum 1.\n",
    "\n",
    "Example 3:\n",
    "\n",
    "Input: nums = [5,4,-1,7,8]\n",
    "\n",
    "Output: 23\n",
    "\n",
    "Explanation: The subarray [5,4,-1,7,8] has the largest sum 23.\n",
    " \n",
    "\n",
    "Constraints:\n",
    "\n",
    "- `1 <= nums.length <= 105`\n",
    "- `-104 <= nums[i] <= 104`\n"
   ]
  },
  {
   "cell_type": "code",
   "execution_count": 13,
   "metadata": {},
   "outputs": [],
   "source": [
    "from typing import List\n",
    "\n",
    "# We need to max sum of subarray.\n",
    "# Sub Array means it has to be continuous \n",
    "def maxSubArray(nums: List[int]) -> int:\n",
    "    max_sum = nums[0]\n",
    "    sum_so_far = 0\n",
    "    for x in nums:\n",
    "        sum_so_far = sum_so_far+x\n",
    "        max_sum = max(max_sum,sum_so_far, x)\n",
    "        if sum_so_far<0:\n",
    "            sum_so_far =0\n",
    "    return max_sum\n"
   ]
  },
  {
   "cell_type": "code",
   "execution_count": 14,
   "metadata": {},
   "outputs": [
    {
     "name": "stdout",
     "output_type": "stream",
     "text": [
      "6\n",
      "23\n"
     ]
    }
   ],
   "source": [
    "print(maxSubArray([-2,1,-3,4,-1,2,1,-5,4]))\n",
    "print(maxSubArray([5,4,-1,7,8]))"
   ]
  }
 ],
 "metadata": {
  "kernelspec": {
   "display_name": "base",
   "language": "python",
   "name": "python3"
  },
  "language_info": {
   "codemirror_mode": {
    "name": "ipython",
    "version": 3
   },
   "file_extension": ".py",
   "mimetype": "text/x-python",
   "name": "python",
   "nbconvert_exporter": "python",
   "pygments_lexer": "ipython3",
   "version": "3.12.7"
  }
 },
 "nbformat": 4,
 "nbformat_minor": 2
}
